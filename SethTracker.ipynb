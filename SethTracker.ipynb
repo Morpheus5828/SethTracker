{
 "cells": [
  {
   "cell_type": "code",
   "execution_count": 1,
   "metadata": {},
   "outputs": [],
   "source": [
    "import pandas as pd\n",
    "import seaborn as sns"
   ]
  },
  {
   "cell_type": "code",
   "execution_count": 2,
   "metadata": {},
   "outputs": [
    {
     "data": {
      "text/html": [
       "<div>\n",
       "<style scoped>\n",
       "    .dataframe tbody tr th:only-of-type {\n",
       "        vertical-align: middle;\n",
       "    }\n",
       "\n",
       "    .dataframe tbody tr th {\n",
       "        vertical-align: top;\n",
       "    }\n",
       "\n",
       "    .dataframe thead th {\n",
       "        text-align: right;\n",
       "    }\n",
       "</style>\n",
       "<table border=\"1\" class=\"dataframe\">\n",
       "  <thead>\n",
       "    <tr style=\"text-align: right;\">\n",
       "      <th></th>\n",
       "      <th>id</th>\n",
       "      <th>grade</th>\n",
       "      <th>1</th>\n",
       "      <th>2</th>\n",
       "      <th>3</th>\n",
       "      <th>4</th>\n",
       "      <th>5</th>\n",
       "      <th>6</th>\n",
       "      <th>7</th>\n",
       "      <th>8</th>\n",
       "      <th>...</th>\n",
       "      <th>307491</th>\n",
       "      <th>307492</th>\n",
       "      <th>307493</th>\n",
       "      <th>307494</th>\n",
       "      <th>307495</th>\n",
       "      <th>307496</th>\n",
       "      <th>307497</th>\n",
       "      <th>307498</th>\n",
       "      <th>307499</th>\n",
       "      <th>307500</th>\n",
       "    </tr>\n",
       "  </thead>\n",
       "  <tbody>\n",
       "    <tr>\n",
       "      <th>0</th>\n",
       "      <td>F.1</td>\n",
       "      <td>0</td>\n",
       "      <td>0.001552</td>\n",
       "      <td>0.000173</td>\n",
       "      <td>0.000526</td>\n",
       "      <td>0.000252</td>\n",
       "      <td>0.000112</td>\n",
       "      <td>0.000121</td>\n",
       "      <td>0.00033</td>\n",
       "      <td>0.003779</td>\n",
       "      <td>...</td>\n",
       "      <td>NaN</td>\n",
       "      <td>NaN</td>\n",
       "      <td>NaN</td>\n",
       "      <td>NaN</td>\n",
       "      <td>NaN</td>\n",
       "      <td>NaN</td>\n",
       "      <td>NaN</td>\n",
       "      <td>NaN</td>\n",
       "      <td>NaN</td>\n",
       "      <td>NaN</td>\n",
       "    </tr>\n",
       "  </tbody>\n",
       "</table>\n",
       "<p>1 rows × 307502 columns</p>\n",
       "</div>"
      ],
      "text/plain": [
       "    id  grade         1         2         3         4         5         6   \n",
       "0  F.1      0  0.001552  0.000173  0.000526  0.000252  0.000112  0.000121  \\\n",
       "\n",
       "         7         8  ...  307491  307492  307493  307494  307495  307496   \n",
       "0  0.00033  0.003779  ...     NaN     NaN     NaN     NaN     NaN     NaN  \\\n",
       "\n",
       "   307497  307498  307499  307500  \n",
       "0     NaN     NaN     NaN     NaN  \n",
       "\n",
       "[1 rows x 307502 columns]"
      ]
     },
     "execution_count": 2,
     "metadata": {},
     "output_type": "execute_result"
    }
   ],
   "source": [
    "fr_feature = pd.read_csv(\"evaluation/Fr_features\")\n",
    "fr_feature.head()"
   ]
  },
  {
   "cell_type": "code",
   "execution_count": null,
   "metadata": {},
   "outputs": [],
   "source": [
    "sns.pairplot(fr_feature)"
   ]
  },
  {
   "cell_type": "code",
   "execution_count": null,
   "metadata": {},
   "outputs": [],
   "source": [
    "X = fr_feature[['intensity', 'freq']]\n",
    "Y = fr_feature['grade']\n",
    "\n",
    "from sklearn.model_selection import train_test_split\n",
    "\n",
    "X_train, X_test, Y_train, Y_test = train_test_split(X, Y, test_size=0.3)"
   ]
  },
  {
   "cell_type": "code",
   "execution_count": null,
   "metadata": {},
   "outputs": [],
   "source": [
    "from sklearn.ensemble import GradientBoostingRegressor\n",
    "from sklearn.neural_network import MLPRegressor # -0,09\n",
    "from sklearn.linear_model import LogisticRegression\n",
    "from sklearn import svm # -1, 10\n",
    "from sklearn.naive_bayes import GaussianNB # -0,8\n",
    "from sklearn.ensemble import IsolationForest # -1,01\n",
    "from sklearn.tree import DecisionTreeRegressor # 0,05 max_depth=2\n",
    "\n",
    "regressor = MLPRegressor()"
   ]
  },
  {
   "cell_type": "code",
   "execution_count": null,
   "metadata": {},
   "outputs": [],
   "source": [
    "Y_predict = regressor.fit(X_train, Y_train).predict(X_test)"
   ]
  },
  {
   "cell_type": "code",
   "execution_count": null,
   "metadata": {},
   "outputs": [],
   "source": [
    "from sklearn import metrics"
   ]
  },
  {
   "cell_type": "code",
   "execution_count": null,
   "metadata": {},
   "outputs": [],
   "source": [
    "print(metrics.r2_score(Y_test, Y_predict))"
   ]
  }
 ],
 "metadata": {
  "kernelspec": {
   "display_name": "Python 3 (ipykernel)",
   "language": "python",
   "name": "python3"
  },
  "language_info": {
   "codemirror_mode": {
    "name": "ipython",
    "version": 3
   },
   "file_extension": ".py",
   "mimetype": "text/x-python",
   "name": "python",
   "nbconvert_exporter": "python",
   "pygments_lexer": "ipython3",
   "version": "3.9.13"
  }
 },
 "nbformat": 4,
 "nbformat_minor": 1
}
